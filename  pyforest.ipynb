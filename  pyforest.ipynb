{
 "cells": [
  {
   "cell_type": "markdown",
   "id": "aaff0b5c",
   "metadata": {},
   "source": [
    " Sometimes, it happens that we spent a huge amount of time importing some common libraries like NumPy, pandas, matplotlib, seaborn, nltk and many more. To remove this headache of importing such libraries manually, we have pyforest library.\n",
    "\n",
    "It is that library which helps you to work directly without importing other libraries separately.\n",
    "It itself adds up some of the highly usable libraries used in DataScience while we are using it."
   ]
  },
  {
   "cell_type": "markdown",
   "id": "3bee0b74",
   "metadata": {},
   "source": [
    "    active_imports(): It will return all the libraries which have been used in the program.\n",
    "    lazy_imports(): It will return all the libraries available in pyforest."
   ]
  },
  {
   "cell_type": "code",
   "execution_count": 1,
   "id": "2d13d95c",
   "metadata": {},
   "outputs": [],
   "source": [
    "import pyforest\n"
   ]
  },
  {
   "cell_type": "code",
   "execution_count": 3,
   "id": "bea29f99",
   "metadata": {},
   "outputs": [
    {
     "data": {
      "application/javascript": [
       "\n",
       "        if (window._pyforest_update_imports_cell) { window._pyforest_update_imports_cell('import pandas as pd'); }\n",
       "    "
      ],
      "text/plain": [
       "<IPython.core.display.Javascript object>"
      ]
     },
     "metadata": {},
     "output_type": "display_data"
    }
   ],
   "source": [
    "lst=[1,2,3,4,5]\n",
    "df=pd.DataFrame(lst) # EVEN WITHOUT IMPORTING PANDAS WE CAN WORK ON PNADAS"
   ]
  },
  {
   "cell_type": "code",
   "execution_count": 4,
   "id": "716ddf9a",
   "metadata": {},
   "outputs": [
    {
     "data": {
      "text/html": [
       "<div>\n",
       "<style scoped>\n",
       "    .dataframe tbody tr th:only-of-type {\n",
       "        vertical-align: middle;\n",
       "    }\n",
       "\n",
       "    .dataframe tbody tr th {\n",
       "        vertical-align: top;\n",
       "    }\n",
       "\n",
       "    .dataframe thead th {\n",
       "        text-align: right;\n",
       "    }\n",
       "</style>\n",
       "<table border=\"1\" class=\"dataframe\">\n",
       "  <thead>\n",
       "    <tr style=\"text-align: right;\">\n",
       "      <th></th>\n",
       "      <th>0</th>\n",
       "    </tr>\n",
       "  </thead>\n",
       "  <tbody>\n",
       "    <tr>\n",
       "      <th>0</th>\n",
       "      <td>1</td>\n",
       "    </tr>\n",
       "    <tr>\n",
       "      <th>1</th>\n",
       "      <td>2</td>\n",
       "    </tr>\n",
       "    <tr>\n",
       "      <th>2</th>\n",
       "      <td>3</td>\n",
       "    </tr>\n",
       "    <tr>\n",
       "      <th>3</th>\n",
       "      <td>4</td>\n",
       "    </tr>\n",
       "    <tr>\n",
       "      <th>4</th>\n",
       "      <td>5</td>\n",
       "    </tr>\n",
       "  </tbody>\n",
       "</table>\n",
       "</div>"
      ],
      "text/plain": [
       "   0\n",
       "0  1\n",
       "1  2\n",
       "2  3\n",
       "3  4\n",
       "4  5"
      ]
     },
     "execution_count": 4,
     "metadata": {},
     "output_type": "execute_result"
    }
   ],
   "source": [
    "df"
   ]
  },
  {
   "cell_type": "code",
   "execution_count": 5,
   "id": "32134a00",
   "metadata": {},
   "outputs": [
    {
     "name": "stdout",
     "output_type": "stream",
     "text": [
      "import pandas as pd\n"
     ]
    },
    {
     "data": {
      "text/plain": [
       "['import pandas as pd']"
      ]
     },
     "execution_count": 5,
     "metadata": {},
     "output_type": "execute_result"
    }
   ],
   "source": [
    "active_imports()"
   ]
  },
  {
   "cell_type": "code",
   "execution_count": 6,
   "id": "25227220",
   "metadata": {},
   "outputs": [
    {
     "data": {
      "text/plain": [
       "['import glob',\n",
       " 'from scipy import signal as sg',\n",
       " 'import awswrangler as wr',\n",
       " 'import skimage',\n",
       " 'import pickle',\n",
       " 'import statsmodels.api as sm',\n",
       " 'import spacy',\n",
       " 'from sklearn.manifold import TSNE',\n",
       " 'import plotly as py',\n",
       " 'from sklearn.linear_model import ElasticNet',\n",
       " 'from sklearn.preprocessing import PolynomialFeatures',\n",
       " 'from PIL import Image',\n",
       " 'from fbprophet import Prophet',\n",
       " 'from sklearn.feature_extraction.text import CountVectorizer',\n",
       " 'import os',\n",
       " 'import cv2',\n",
       " 'from sklearn import svm',\n",
       " 'import nltk',\n",
       " 'from sklearn.feature_extraction.text import TfidfVectorizer',\n",
       " 'from openpyxl import load_workbook',\n",
       " 'from sklearn.cluster import KMeans',\n",
       " 'import xgboost as xgb',\n",
       " 'from sklearn.model_selection import GridSearchCV',\n",
       " 'import pydot',\n",
       " 'from dask import dataframe as dd',\n",
       " 'from sklearn.ensemble import RandomForestClassifier',\n",
       " 'from sklearn.linear_model import ElasticNetCV',\n",
       " 'import numpy as np',\n",
       " 'from sklearn.model_selection import train_test_split',\n",
       " 'import plotly.graph_objs as go',\n",
       " 'from sklearn.linear_model import LassoCV',\n",
       " 'from statsmodels.tsa.arima_model import ARIMA',\n",
       " 'import statistics',\n",
       " 'import torch',\n",
       " 'from sklearn.model_selection import RandomizedSearchCV',\n",
       " 'import datetime as dt',\n",
       " 'import plotly.express as px',\n",
       " 'from sklearn.decomposition import PCA',\n",
       " 'import sys',\n",
       " 'from sklearn.preprocessing import StandardScaler',\n",
       " 'import seaborn as sns',\n",
       " 'import fastai',\n",
       " 'from sklearn.linear_model import RidgeCV',\n",
       " 'from sklearn.model_selection import cross_val_score',\n",
       " 'from sklearn.preprocessing import RobustScaler',\n",
       " 'import textblob',\n",
       " 'from sklearn.preprocessing import OneHotEncoder',\n",
       " 'from sklearn.impute import SimpleImputer',\n",
       " 'from sklearn.linear_model import Lasso',\n",
       " 'from pathlib import Path',\n",
       " 'from scipy import stats',\n",
       " 'from sklearn import metrics',\n",
       " 'from sklearn.model_selection import StratifiedKFold',\n",
       " 'import keras',\n",
       " 'from sklearn.ensemble import GradientBoostingClassifier',\n",
       " 'import tensorflow as tf',\n",
       " 'import imutils',\n",
       " 'from sklearn.ensemble import RandomForestRegressor',\n",
       " 'import dash',\n",
       " 'import sklearn',\n",
       " 'import matplotlib.pyplot as plt',\n",
       " 'from sklearn.model_selection import KFold',\n",
       " 'import matplotlib as mpl',\n",
       " 'from xlrd import open_workbook',\n",
       " 'from sklearn.preprocessing import MinMaxScaler',\n",
       " 'import fbprophet',\n",
       " 'from sklearn.linear_model import LogisticRegression',\n",
       " 'from sklearn.linear_model import Ridge',\n",
       " 'import gensim',\n",
       " 'from pyspark import SparkContext',\n",
       " 'import tqdm',\n",
       " 'import bokeh',\n",
       " 'from sklearn.ensemble import GradientBoostingRegressor',\n",
       " 'from sklearn.linear_model import LinearRegression',\n",
       " 'from sklearn.preprocessing import LabelEncoder',\n",
       " 'import re',\n",
       " 'import altair as alt',\n",
       " 'import lightgbm as lgb']"
      ]
     },
     "execution_count": 6,
     "metadata": {},
     "output_type": "execute_result"
    }
   ],
   "source": [
    "lazy_imports() # WE CAN SEE HOW MANY LIBRARIES WILL BE IN PYFORESsST"
   ]
  }
 ],
 "metadata": {
  "kernelspec": {
   "display_name": "Python 3",
   "language": "python",
   "name": "python3"
  },
  "language_info": {
   "codemirror_mode": {
    "name": "ipython",
    "version": 3
   },
   "file_extension": ".py",
   "mimetype": "text/x-python",
   "name": "python",
   "nbconvert_exporter": "python",
   "pygments_lexer": "ipython3",
   "version": "3.8.8"
  }
 },
 "nbformat": 4,
 "nbformat_minor": 5
}
